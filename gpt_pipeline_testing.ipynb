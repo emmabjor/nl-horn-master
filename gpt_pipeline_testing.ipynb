{
 "cells": [
  {
   "cell_type": "markdown",
   "metadata": {},
   "source": [
    "# GPT Pipeline\n",
    "\n",
    "The goal is to implement a pipeline where we take sentences from the commonsense norm bank, and through multiple steps turn it into first-order horn. Along the way we are interested to see what kind of sentences are not translate-able to horn.\n",
    "\n",
    "Steps:\n",
    "1. GPT-4 is asked to transform a Commonsense sentence to FOL, send result to (2)\n",
    "2. Check if input is a WFF in FOL.\n",
    "    - If no: Collect in WFF-FOL database, then break\n",
    "    - If yes: step (3)\n",
    "3. Check if input is CNF.\n",
    "    - If no: Collect in CNF database, translate WFF FOL to CNF via translation script, then (4)\n",
    "    - If yes: step (4)\n",
    "4. Check if input is FOH.\n",
    "    - If no: Collect in FOH database\n",
    "    - If yes: Break"
   ]
  },
  {
   "cell_type": "code",
   "execution_count": 1,
   "metadata": {},
   "outputs": [
    {
     "name": "stderr",
     "output_type": "stream",
     "text": [
      "/opt/anaconda3/envs/logicllama/lib/python3.7/site-packages/tqdm/auto.py:21: TqdmWarning: IProgress not found. Please update jupyter and ipywidgets. See https://ipywidgets.readthedocs.io/en/stable/user_install.html\n",
      "  from .autonotebook import tqdm as notebook_tqdm\n"
     ]
    }
   ],
   "source": [
    "# Packages\n",
    "# pip install --upgrade openai\n",
    "\n",
    "import os\n",
    "import openai \n",
    "import pandas as pd\n",
    "\n",
    "from dotenv import load_dotenv\n",
    "\n",
    "load_dotenv()\n",
    "\n",
    "openai.api_key = os.getenv(\"OPENAI_API_KEY\")\n",
    "\n",
    "import prompts\n",
    "from fol_parser import parse_text_FOL_to_tree"
   ]
  },
  {
   "cell_type": "markdown",
   "metadata": {},
   "source": [
    "### GPT translation"
   ]
  },
  {
   "cell_type": "markdown",
   "metadata": {},
   "source": [
    "### Horn Convertion testing"
   ]
  },
  {
   "cell_type": "code",
   "execution_count": 13,
   "metadata": {},
   "outputs": [
    {
     "name": "stdout",
     "output_type": "stream",
     "text": [
      "¬Friends(v0, v1) ∨ ¬ExpectRevealEverything(v0, v1) ∨ evaluation(GOOD)\n"
     ]
    }
   ],
   "source": [
    "test = 'evaluation(GOOD) | ~Friends(v0, v1) | ~ExpectRevealEverything(v0, v1)'\n",
    "\n",
    "\n",
    "antecedent = []\n",
    "consequence = []\n",
    "\n",
    "test_splt = test.split('|')\n",
    "for i in test_splt:\n",
    "    if i.strip()[0] != '~':\n",
    "        consequence.append(i.strip())\n",
    "    else:\n",
    "        i = i.replace('~', '¬')\n",
    "        antecedent.append(i.strip())\n",
    "\n",
    "if len(consequence) > 1:\n",
    "    print('Not horn clause')\n",
    "else:\n",
    "    antecedent_joined = (' ∨ ').join(antecedent)\n",
    "    joined = (' ∨ ').join([antecedent_joined, consequence[0]])\n",
    "    print(joined)\n",
    "        \n"
   ]
  },
  {
   "cell_type": "code",
   "execution_count": null,
   "metadata": {},
   "outputs": [],
   "source": [
    "# ∀x∀y(Buddy(x,y) ∧ GoesCampingWith(x,y) ∧ ∀z    (Has(x,z)) → evaluation(GOOD))\n",
    "# til\n",
    "# ∀x∀y∀z(Buddy(x,y) ∧ GoesCampingWith(x,y) ∧ Has(x,z) → evaluation(GOOD))"
   ]
  },
  {
   "cell_type": "code",
   "execution_count": 5,
   "metadata": {},
   "outputs": [
    {
     "data": {
      "text/plain": [
       "resolve (generic function with 1 method)"
      ]
     },
     "execution_count": 5,
     "metadata": {},
     "output_type": "execute_result"
    }
   ],
   "source": [
    "from juliacall import Main as jl\n",
    "jl.include(\"/Users/emmabjorkas/Documents/Informasjonsvitenskap/Master/gpt_pipeline/First-order-Logic-resolution-master/hw2.jl\")"
   ]
  },
  {
   "cell_type": "code",
   "execution_count": 6,
   "metadata": {},
   "outputs": [],
   "source": [
    "def replace_op(formula):\n",
    "    \"\"\"\n",
    "    Replaces the operators in a formula to woek with Julia code.\n",
    "\n",
    "    Args:\n",
    "        formula (str): The formula to be edited\n",
    "\n",
    "    Returns:\n",
    "        str: The edited formula\n",
    "    \"\"\"\n",
    "    formula = formula.replace('∨', '|')\n",
    "    formula = formula.replace('∧', '&')\n",
    "    formula = formula.replace('→', '==>')\n",
    "    formula = formula.replace('↔', '<=>')\n",
    "    formula = formula.replace('¬', '~')\n",
    "    return formula\n",
    "\n",
    "\n",
    "def fol_to_cnf_converter(lst):\n",
    "    \"\"\"Converts a list of FOL formulas to CNF using Julia code.\n",
    "\n",
    "    Args:\n",
    "        lst (list): The list of FOL formulas to be converted\n",
    "\n",
    "    Returns:\n",
    "        lst: The list of converted formulas.\n",
    "    \"\"\"\n",
    "    clauses = jl.map(jl.skolemize, jl.map(jl.toCNF, jl.map(jl.toClause, jl.map(jl.lexer, lst))))\n",
    "    translated_formulas = []\n",
    "    for i in clauses:\n",
    "        formatted = jl.printClause(i)\n",
    "        translated_formulas.append(formatted)\n",
    "    return translated_formulas\n",
    "\n",
    "\n",
    "def fol_to_cnf(lst, col_name=\"\", prompt_iteration=\"\", adjustment_iteration=\"\"):\n",
    "    \"\"\"Creates a data frame of the CNF translations and evaluations.\n",
    "\n",
    "    Args:\n",
    "        df (DataFrame): The dataframe to iterate through\n",
    "        col_name (str): Name of the column to save the translations and evaluations to\n",
    "        prompt_iteration (str): Name of the prompt iteration\n",
    "        adjustment_iteration (str): Name of the prompt iteration\n",
    "    \"\"\"\n",
    "\n",
    "    cnf_formulas = []\n",
    "    cnf_evals = []\n",
    "\n",
    "    for index in range(len(lst)):\n",
    "        try:\n",
    "            converted = fol_to_cnf_converter([replace_op(lst[index])])\n",
    "            cnf_formulas.append(converted[0])\n",
    "            cnf_evals.append(1)\n",
    "            print(f'FOL: {lst[index]}\\nCNF: {converted[0]}\\n')\n",
    "        except Exception as e:\n",
    "            cnf_formulas.append('ERROR')\n",
    "            cnf_evals.append(-1)\n",
    "            print(f'FOL: {lst[index]}\\Error: {e}\\n')"
   ]
  },
  {
   "cell_type": "code",
   "execution_count": 7,
   "metadata": {},
   "outputs": [],
   "source": [
    "lst = [\"∀x0∀y0∀y1(Girl(x0) ∧ Girl(y0) ∧ Friends(x0, y0) ∧ (Boy(y1) ∧ Enemies(x0, y1)) → evaluation(GOOD))\"]"
   ]
  },
  {
   "cell_type": "code",
   "execution_count": 8,
   "metadata": {},
   "outputs": [
    {
     "name": "stdout",
     "output_type": "stream",
     "text": [
      "FOL: ∀x0∀y0∀y1(Girl(x0) ∧ Girl(y0) ∧ Friends(x0, y0) ∧ (Boy(y1) ∧ Enemies(x0, y1)) → evaluation(GOOD))\n",
      "CNF: evaluation(GOOD) | ~Girl(v0) | ~Girl(v1) | ~Friends(v0, v1) | ~Boy(v2) | ~Enemies(v0, v2)\n",
      "\n"
     ]
    }
   ],
   "source": [
    "fol_to_cnf(lst)"
   ]
  },
  {
   "cell_type": "markdown",
   "metadata": {},
   "source": [
    "FOL: ¬∃x∀y1(Buddy(x,y1) ∧ GoesCampingWith(x,y1) → evaluation(GOOD))\n",
    "\n",
    "CNF: evaluation(GOOD) | ~Buddy(v19, v18) | ~GoesCampingWith(v19, v18)"
   ]
  },
  {
   "cell_type": "code",
   "execution_count": 13,
   "metadata": {},
   "outputs": [
    {
     "name": "stdout",
     "output_type": "stream",
     "text": [
      "(-Buddy(z2) | -GoesCampingWith(z2,z1) | evaluation(GOOD))\n"
     ]
    }
   ],
   "source": [
    "from nltk.sem import skolemize, Expression\n",
    "\n",
    "test = 'exist x. (Buddy(x) and (all y. (GoesCampingWith(x,y))) implies evaluation(GOOD))'\n",
    "skol = (skolemize(Expression.fromstring(test)))\n",
    "print(skol)"
   ]
  },
  {
   "cell_type": "markdown",
   "metadata": {},
   "source": [
    "'⊕', '∨', '∧', '→', '↔', '∀', '∃', '¬', '(', ')', ','\n",
    "\n"
   ]
  },
  {
   "cell_type": "code",
   "execution_count": 21,
   "metadata": {},
   "outputs": [],
   "source": [
    "def isolate_quantifier_range(f):\n",
    "    quantifiers = []\n",
    "    for i in range(len(f)):\n",
    "        if f[i] == '∀' or f[i] == '∃':\n",
    "            sub_str = f[i+2:]\n",
    "            q_range = '('\n",
    "            p = 1\n",
    "            p_i = sub_str.find('(')\n",
    "            q_range += sub_str[:p_i]\n",
    "            sub_str = sub_str[p_i+1:]\n",
    "            for j in range(len(sub_str)+1):\n",
    "                if p == 0:\n",
    "                    q_range += sub_str[:j]\n",
    "                    print(f[i:i+2],q_range)\n",
    "                    quantifiers.append([f[i:i+2], q_range])\n",
    "                    break\n",
    "                if sub_str[j] == '(':\n",
    "                    p += 1\n",
    "                elif sub_str[j] == ')':\n",
    "                    p -=1 \n",
    "    return quantifiers"
   ]
  },
  {
   "cell_type": "code",
   "execution_count": 22,
   "metadata": {},
   "outputs": [
    {
     "name": "stdout",
     "output_type": "stream",
     "text": [
      "∀x (∀z∀y(Buddy(x,y)) ∧ ∃y(GoesCampingWith(x,y)) → evaluation(GOOD))\n",
      "∀z (∀y(Buddy(x,y)) ∧ ∃y(GoesCampingWith(x,y)) → evaluation(GOOD))\n",
      "∀y (Buddy(x,y))\n",
      "∃y (GoesCampingWith(x,y))\n"
     ]
    }
   ],
   "source": [
    "f = '∀x∀z(∀y(Buddy(x,y)) ∧ ∃y(GoesCampingWith(x,y)) → evaluation(GOOD))'\n",
    "quantifiers = (isolate_quantifier_range(f))"
   ]
  },
  {
   "cell_type": "code",
   "execution_count": 38,
   "metadata": {},
   "outputs": [
    {
     "data": {
      "text/plain": [
       "[['∀x', '(∀z∀y(Buddy(x,y)) ∧ ∃y(GoesCampingWith(x,y)) → evaluation(GOOD))'],\n",
       " ['∀z', '(∀y(Buddy(x,y)) ∧ ∃y(GoesCampingWith(x,y)) → evaluation(GOOD))'],\n",
       " ['∀y', '(Buddy(x,y))'],\n",
       " ['∃y', '(GoesCampingWith(x,y))']]"
      ]
     },
     "execution_count": 38,
     "metadata": {},
     "output_type": "execute_result"
    }
   ],
   "source": [
    "quantifiers"
   ]
  },
  {
   "cell_type": "code",
   "execution_count": 23,
   "metadata": {},
   "outputs": [
    {
     "name": "stdout",
     "output_type": "stream",
     "text": [
      "['∀x(∀z∀y(Buddy(x,y)) ∧ ∃y(GoesCampingWith(x,y)) → evaluation(GOOD))', '∀z(∀y(Buddy(x,y)) ∧ ∃y(GoesCampingWith(x,y)) → evaluation(GOOD))', '∀y(Buddy(x,y))', '∃y(GoesCampingWith(x,y))']\n"
     ]
    }
   ],
   "source": [
    "n_quantifiers = []\n",
    "for i in quantifiers:\n",
    "    n_quantifiers.append(i[0]+i[1])\n",
    "print(n_quantifiers)"
   ]
  },
  {
   "cell_type": "code",
   "execution_count": 66,
   "metadata": {},
   "outputs": [],
   "source": [
    "def test(f, q):\n",
    "    quant_dict = {}\n",
    "    sorted_q = sorted(q, key=len)\n",
    "    for i in range(len(sorted_q)):\n",
    "        quant_dict[i] = sorted_q[i]\n",
    "    quant_dict[len(sorted_q)] = f\n",
    "    return quant_dict\n",
    "    #print(sorted_q)"
   ]
  },
  {
   "cell_type": "code",
   "execution_count": 67,
   "metadata": {},
   "outputs": [],
   "source": [
    "f = '∀x∀z(∀y(Buddy(x,y)) ∧ ∃y(GoesCampingWith(x,y)) → evaluation(GOOD))'\n",
    "q_dict = test(f, n_quantifiers)"
   ]
  },
  {
   "cell_type": "code",
   "execution_count": 68,
   "metadata": {},
   "outputs": [
    {
     "name": "stdout",
     "output_type": "stream",
     "text": [
      "current value: ∀y(Buddy(x,y))\n",
      "\n",
      "current value: ∃y(GoesCampingWith(x,y))\n",
      "\n",
      "current value: ∀z(∀y(Buddy(x,y)) ∧ ∃y(GoesCampingWith(x,y)) → evaluation(GOOD))\n",
      "replace value: ∀y(Buddy(x,y))\n",
      "∀z(*0* ∧ ∃y(GoesCampingWith(x,y)) → evaluation(GOOD))\n",
      "replace value: ∃y(GoesCampingWith(x,y))\n",
      "∀z(*0* ∧ *1* → evaluation(GOOD))\n",
      "\n",
      "current value: ∀x(∀z∀y(Buddy(x,y)) ∧ ∃y(GoesCampingWith(x,y)) → evaluation(GOOD))\n",
      "replace value: ∀y(Buddy(x,y))\n",
      "∀x(∀z*0* ∧ ∃y(GoesCampingWith(x,y)) → evaluation(GOOD))\n",
      "replace value: ∃y(GoesCampingWith(x,y))\n",
      "∀x(∀z*0* ∧ *1* → evaluation(GOOD))\n",
      "\n",
      "current value: ∀x∀z(∀y(Buddy(x,y)) ∧ ∃y(GoesCampingWith(x,y)) → evaluation(GOOD))\n",
      "replace value: ∀y(Buddy(x,y))\n",
      "∀x∀z(*0* ∧ ∃y(GoesCampingWith(x,y)) → evaluation(GOOD))\n",
      "replace value: ∃y(GoesCampingWith(x,y))\n",
      "∀x∀z(*0* ∧ *1* → evaluation(GOOD))\n",
      "\n",
      "{0: '∀y(Buddy(x,y))', 1: '∃y(GoesCampingWith(x,y))', 2: '∀z(*0* ∧ *1* → evaluation(GOOD))', 3: '∀x(∀z*0* ∧ *1* → evaluation(GOOD))', 4: '∀x∀z(*0* ∧ *1* → evaluation(GOOD))'}\n"
     ]
    }
   ],
   "source": [
    "new_dict = q_dict\n",
    "for key, value in q_dict.items():\n",
    "    print(\"current value:\", value)\n",
    "    for rep_key, rep_value in q_dict.items():\n",
    "        if rep_value == value:\n",
    "            continue\n",
    "        elif rep_value in value:\n",
    "            print(\"replace value:\", rep_value)\n",
    "            new = new_dict[key].replace(rep_value, (\"*\"+str(rep_key)+\"*\"))\n",
    "            print(new)\n",
    "            new_dict[key] = new\n",
    "    print()\n",
    "print(new_dict)"
   ]
  },
  {
   "cell_type": "code",
   "execution_count": 69,
   "metadata": {},
   "outputs": [
    {
     "name": "stdout",
     "output_type": "stream",
     "text": [
      "0 ∀y(Buddy(x,y))\n",
      "1 ∃y(GoesCampingWith(x,y))\n",
      "2 ∀z(*0* ∧ *1* → evaluation(GOOD))\n",
      "3 ∀x(∀z*0* ∧ *1* → evaluation(GOOD))\n",
      "4 ∀x∀z(*0* ∧ *1* → evaluation(GOOD))\n"
     ]
    }
   ],
   "source": [
    "for key, value in new_dict.items():\n",
    "    uniqe_vars = value.replace\n",
    "    print(key, value)"
   ]
  },
  {
   "cell_type": "code",
   "execution_count": 9,
   "metadata": {},
   "outputs": [],
   "source": [
    "import re\n",
    "\n",
    "def parse_nested(text, left=r'[(]', right=r'[)]', sep=r','):\n",
    "    \"\"\" Based on https://stackoverflow.com/a/17141899/190597 (falsetru) \"\"\"\n",
    "    pat = r'({}|{}|{})'.format(left, right, sep)\n",
    "    tokens = re.split(pat, text)    \n",
    "    stack = [[]]\n",
    "    for x in tokens:\n",
    "        if not x or re.match(sep, x): continue\n",
    "        if re.match(left, x):\n",
    "            stack[-1].append([])\n",
    "            stack.append(stack[-1][-1])\n",
    "        elif re.match(right, x):\n",
    "            stack.pop()\n",
    "            if not stack:\n",
    "                raise ValueError('error: opening bracket is missing')\n",
    "        else:\n",
    "            stack[-1].append(x)\n",
    "    if len(stack) > 1:\n",
    "        print(stack)\n",
    "        raise ValueError('error: closing bracket is missing')\n",
    "    return stack.pop()\n",
    "\n",
    "# [[['wordOneWord2'], 'OtherWord', ['FinalWord']]]"
   ]
  },
  {
   "cell_type": "code",
   "execution_count": 10,
   "metadata": {},
   "outputs": [
    {
     "name": "stdout",
     "output_type": "stream",
     "text": [
      "∀x∀z(∀y(Buddy(x,y)) ∧ ∃y(GoesCampingWith(x,y)) → evaluation(GOOD))\n",
      "\n"
     ]
    }
   ],
   "source": [
    "f = '∀x∀z(∀y(Buddy(x,y)) ∧ ∃y(GoesCampingWith(x,y)) → evaluation(GOOD))'\n",
    "print(f)\n",
    "print()\n",
    "list_rep = parse_nested(f)"
   ]
  },
  {
   "cell_type": "code",
   "execution_count": 12,
   "metadata": {},
   "outputs": [
    {
     "name": "stdout",
     "output_type": "stream",
     "text": [
      "['∀x∀z', ['∀y', ['Buddy', ['x', 'y']], ' ∧ ∃y', ['GoesCampingWith', ['x', 'y']], ' → evaluation', ['GOOD']]]\n"
     ]
    },
    {
     "data": {
      "text/plain": [
       "['x', 'y']"
      ]
     },
     "execution_count": 12,
     "metadata": {},
     "output_type": "execute_result"
    }
   ],
   "source": [
    "def innermost(data):\n",
    "    for item in data:\n",
    "        if isinstance(item, list):\n",
    "            return innermost(item)\n",
    "        else:\n",
    "            continue\n",
    "    return data\n",
    "\n",
    "print(list_rep)\n",
    "innermost(list_rep)"
   ]
  },
  {
   "cell_type": "code",
   "execution_count": 119,
   "metadata": {},
   "outputs": [],
   "source": [
    "import re\n",
    "\n",
    "def eliminate_negated_quantifiers(f, num_neg=0):\n",
    "    for i in range(len(f)-1):\n",
    "        try:\n",
    "            if f[i] == '¬' and f[i+1] == '¬':\n",
    "                f = f[:i] + f[i+2:]\n",
    "            elif f[i] == '¬' and f[i+1] == '∀':\n",
    "                f = f[:i] + '∃' + f[i+2] + '¬' + f[i+3:]\n",
    "            elif f[i] == '¬' and f[i+1] == '∃':\n",
    "                f = f[:i] + '∀' + f[i+2] + '¬' + f[i+3:]\n",
    "        except Exception as e:\n",
    "            break\n",
    "    while num_neg > 1:\n",
    "        f = eliminate_negated_quantifiers(f, num_neg-1)\n",
    "        num_neg -= 1\n",
    "    return f\n"
   ]
  },
  {
   "cell_type": "code",
   "execution_count": 125,
   "metadata": {},
   "outputs": [
    {
     "name": "stdout",
     "output_type": "stream",
     "text": [
      "∃x(Buddy(x) ∧ ∃y¬(GoesCampingWith(x,y)) → evaluation(GOOD))\n"
     ]
    }
   ],
   "source": [
    "f = '∃x(Buddy(x) ∧ ¬∀y(GoesCampingWith(x,y)) → evaluation(GOOD))'\n",
    "print(eliminate_negated_quantifiers(f, f.count('¬')+1))"
   ]
  },
  {
   "cell_type": "code",
   "execution_count": 346,
   "metadata": {},
   "outputs": [
    {
     "ename": "AttributeError",
     "evalue": "'str' object has no attribute 'tree'",
     "output_type": "error",
     "traceback": [
      "\u001b[0;31m---------------------------------------------------------------------------\u001b[0m",
      "\u001b[0;31mAttributeError\u001b[0m                            Traceback (most recent call last)",
      "\u001b[0;32m/var/folders/02/vpfynh8x08x3ncytv875y5lh0000gn/T/ipykernel_75640/2250381703.py\u001b[0m in \u001b[0;36m<module>\u001b[0;34m\u001b[0m\n\u001b[1;32m      3\u001b[0m \u001b[0mf\u001b[0m \u001b[0;34m=\u001b[0m \u001b[0;34m'(∀x∀z(∀y(Buddy(x,y)) ∧ ∃y(GoesCampingWith(x,y)) → evaluation(GOOD)))'\u001b[0m\u001b[0;34m\u001b[0m\u001b[0;34m\u001b[0m\u001b[0m\n\u001b[1;32m      4\u001b[0m \u001b[0;34m\u001b[0m\u001b[0m\n\u001b[0;32m----> 5\u001b[0;31m \u001b[0mtree\u001b[0m \u001b[0;34m=\u001b[0m \u001b[0mTree\u001b[0m\u001b[0;34m.\u001b[0m\u001b[0mfromlist\u001b[0m\u001b[0;34m(\u001b[0m\u001b[0mparse_nested\u001b[0m\u001b[0;34m(\u001b[0m\u001b[0mf\u001b[0m\u001b[0;34m)\u001b[0m\u001b[0;34m)\u001b[0m\u001b[0;34m.\u001b[0m\u001b[0mtree\u001b[0m\u001b[0;34m(\u001b[0m\u001b[0;32mlambda\u001b[0m \u001b[0ms\u001b[0m\u001b[0;34m:\u001b[0m\u001b[0ms\u001b[0m\u001b[0;34m.\u001b[0m\u001b[0mhypernyms\u001b[0m\u001b[0;34m(\u001b[0m\u001b[0;34m)\u001b[0m\u001b[0;34m)\u001b[0m\u001b[0;34m\u001b[0m\u001b[0;34m\u001b[0m\u001b[0m\n\u001b[0m",
      "\u001b[0;31mAttributeError\u001b[0m: 'str' object has no attribute 'tree'"
     ]
    }
   ],
   "source": [
    "from nltk.tree import *\n",
    "\n",
    "f = '(∀x∀z(∀y(Buddy(x,y)) ∧ ∃y(GoesCampingWith(x,y)) → evaluation(GOOD)))'\n",
    "\n",
    "tree = Tree.fromlist(parse_nested(f))"
   ]
  },
  {
   "cell_type": "code",
   "execution_count": 345,
   "metadata": {},
   "outputs": [
    {
     "ename": "AttributeError",
     "evalue": "'str' object has no attribute 'pretty_print'",
     "output_type": "error",
     "traceback": [
      "\u001b[0;31m---------------------------------------------------------------------------\u001b[0m",
      "\u001b[0;31mAttributeError\u001b[0m                            Traceback (most recent call last)",
      "\u001b[0;32m/var/folders/02/vpfynh8x08x3ncytv875y5lh0000gn/T/ipykernel_75640/2725798174.py\u001b[0m in \u001b[0;36m<module>\u001b[0;34m\u001b[0m\n\u001b[0;32m----> 1\u001b[0;31m \u001b[0mtree\u001b[0m\u001b[0;34m.\u001b[0m\u001b[0mpretty_print\u001b[0m\u001b[0;34m(\u001b[0m\u001b[0;34m)\u001b[0m\u001b[0;34m\u001b[0m\u001b[0;34m\u001b[0m\u001b[0m\n\u001b[0m",
      "\u001b[0;31mAttributeError\u001b[0m: 'str' object has no attribute 'pretty_print'"
     ]
    }
   ],
   "source": [
    "tree"
   ]
  },
  {
   "cell_type": "code",
   "execution_count": 340,
   "metadata": {},
   "outputs": [
    {
     "data": {
      "image/svg+xml": [
       "<svg baseProfile=\"full\" height=\"168px\" preserveAspectRatio=\"xMidYMid meet\" style=\"font-family: times, serif; font-weight: normal; font-style: normal; font-size: 16px;\" version=\"1.1\" viewBox=\"0,0,200.0,168.0\" width=\"200px\" xmlns=\"http://www.w3.org/2000/svg\" xmlns:ev=\"http://www.w3.org/2001/xml-events\" xmlns:xlink=\"http://www.w3.org/1999/xlink\"><defs /><svg width=\"100%\" x=\"0\" y=\"0px\"><defs /><text text-anchor=\"middle\" x=\"50%\" y=\"16px\">S</text></svg><svg width=\"16%\" x=\"0%\" y=\"48px\"><defs /><svg width=\"100%\" x=\"0\" y=\"0px\"><defs /><text text-anchor=\"middle\" x=\"50%\" y=\"16px\">NP</text></svg><svg width=\"100%\" x=\"0%\" y=\"48px\"><defs /><svg width=\"100%\" x=\"0\" y=\"0px\"><defs /><text text-anchor=\"middle\" x=\"50%\" y=\"16px\">I</text></svg></svg><line stroke=\"black\" x1=\"50%\" x2=\"50%\" y1=\"19.2px\" y2=\"48px\" /></svg><line stroke=\"black\" x1=\"50%\" x2=\"8%\" y1=\"19.2px\" y2=\"48px\" /><svg width=\"84%\" x=\"16%\" y=\"48px\"><defs /><svg width=\"100%\" x=\"0\" y=\"0px\"><defs /><text text-anchor=\"middle\" x=\"50%\" y=\"16px\">VP</text></svg><svg width=\"42.8571%\" x=\"0%\" y=\"48px\"><defs /><svg width=\"100%\" x=\"0\" y=\"0px\"><defs /><text text-anchor=\"middle\" x=\"50%\" y=\"16px\">V</text></svg><svg width=\"100%\" x=\"0%\" y=\"48px\"><defs /><svg width=\"100%\" x=\"0\" y=\"0px\"><defs /><text text-anchor=\"middle\" x=\"50%\" y=\"16px\">enjoyed</text></svg></svg><line stroke=\"black\" x1=\"50%\" x2=\"50%\" y1=\"19.2px\" y2=\"48px\" /></svg><line stroke=\"black\" x1=\"50%\" x2=\"21.4286%\" y1=\"19.2px\" y2=\"48px\" /><svg width=\"57.1429%\" x=\"42.8571%\" y=\"48px\"><defs /><svg width=\"100%\" x=\"0\" y=\"0px\"><defs /><text text-anchor=\"middle\" x=\"50%\" y=\"16px\">NP</text></svg><svg width=\"33.3333%\" x=\"0%\" y=\"48px\"><defs /><svg width=\"100%\" x=\"0\" y=\"0px\"><defs /><text text-anchor=\"middle\" x=\"50%\" y=\"16px\">my</text></svg></svg><line stroke=\"black\" x1=\"50%\" x2=\"16.6667%\" y1=\"19.2px\" y2=\"48px\" /><svg width=\"66.6667%\" x=\"33.3333%\" y=\"48px\"><defs /><svg width=\"100%\" x=\"0\" y=\"0px\"><defs /><text text-anchor=\"middle\" x=\"50%\" y=\"16px\">cookie</text></svg></svg><line stroke=\"black\" x1=\"50%\" x2=\"66.6667%\" y1=\"19.2px\" y2=\"48px\" /></svg><line stroke=\"black\" x1=\"50%\" x2=\"71.4286%\" y1=\"19.2px\" y2=\"48px\" /></svg><line stroke=\"black\" x1=\"50%\" x2=\"58%\" y1=\"19.2px\" y2=\"48px\" /></svg>"
      ],
      "text/plain": [
       "Tree('S', [Tree('NP', ['I']), Tree('VP', [Tree('V', ['enjoyed']), Tree('NP', ['my', 'cookie'])])])"
      ]
     },
     "execution_count": 340,
     "metadata": {},
     "output_type": "execute_result"
    }
   ],
   "source": [
    "test_tree = Tree.fromstring('(S (NP I) (VP (V enjoyed) (NP my cookie)))')\n",
    "test_tree"
   ]
  },
  {
   "cell_type": "code",
   "execution_count": null,
   "metadata": {},
   "outputs": [],
   "source": []
  },
  {
   "cell_type": "markdown",
   "metadata": {},
   "source": [
    "## KRISELØSNING\n",
    "\n",
    "Sjekker om det blir brukt like variabler ulike steder i formelen, i så fall kan den forkastes."
   ]
  },
  {
   "cell_type": "code",
   "execution_count": 27,
   "metadata": {},
   "outputs": [
    {
     "name": "stdout",
     "output_type": "stream",
     "text": [
      "∀x∀z(∀y(Buddy(x,y)) ∧ ∃y(GoesCampingWith(x,y)) → evaluation(GOOD))\n",
      "Dupe var: y\n",
      "True\n"
     ]
    }
   ],
   "source": [
    "def repeat_var(f):\n",
    "    vars = []\n",
    "    eval = False\n",
    "    for i in range(len(f)):\n",
    "        if f[i] == '∃' or f[i] == '∀':\n",
    "            if f[i+1] not in vars:\n",
    "                vars.append(f[i+1])\n",
    "            else:\n",
    "                print(f\"Dupe var: {f[i+1]}\")\n",
    "                eval = True\n",
    "    return eval\n",
    "\n",
    "print(f)\n",
    "print(repeat_var(f))"
   ]
  },
  {
   "cell_type": "code",
   "execution_count": 37,
   "metadata": {},
   "outputs": [
    {
     "data": {
      "text/plain": [
       "'∀x∀z∀y∃w((Buddy(x,y)) ∧ (GoesCampingWith(x,w)) → evaluation(GOOD))'"
      ]
     },
     "execution_count": 37,
     "metadata": {},
     "output_type": "execute_result"
    }
   ],
   "source": [
    "def push_quantifiers(f):\n",
    "    if repeat_var(f) == True:\n",
    "        print(\"Formula contains repeated variables and is discarded.\")\n",
    "        return None\n",
    "    else:\n",
    "        quants = \"\"\n",
    "        new_f = f\n",
    "        for i in range(len(f)-2):\n",
    "            if f[i] == \"∀\" or f[i] == \"∃\":\n",
    "                quants += f[i:i+2]\n",
    "                new_f = new_f.replace(f[i:i+2], \"\")\n",
    "        new_f = quants+new_f\n",
    "    return new_f\n",
    "\n",
    "f = \"∀x∀z(∀y(Buddy(x,y)) ∧ ∃w(GoesCampingWith(x,w)) → evaluation(GOOD))\"\n",
    "push_quantifiers(f)"
   ]
  },
  {
   "cell_type": "code",
   "execution_count": 15,
   "metadata": {},
   "outputs": [],
   "source": [
    "import re\n",
    "def rename_quantifier_variables(F, current_variable=\"init\", current_quantifiers = {\"init\":0}, new = \"\"):\n",
    "    \"\"\"\n",
    "    Renames the duplicate quantifier variables in a given formula.\n",
    "\n",
    "    Parameters:\n",
    "    - F (str): The formula to rename the quantifier variables in.\n",
    "    - current_variable (str): The current variable being processed. Default is \"init\".\n",
    "\n",
    "    Returns:\n",
    "    - str: The formula with renamed quantifier variables.\n",
    "    \"\"\"\n",
    "    form = F+\"*\"\n",
    "    num_parent = 1\n",
    "    i=0\n",
    "    while form[i] != \"*\":\n",
    "        if form[i]=='∀' or form[i] == \"∃\":\n",
    "            new = new+form[i]\n",
    "            var = form[i+1]\n",
    "            if var in current_quantifiers:\n",
    "                current_quantifiers[var] = current_quantifiers[var] + 1\n",
    "                return rename_quantifier_variables(form[i+1:], var, current_quantifiers, new)\n",
    "            else:\n",
    "                current_quantifiers[var] = 0\n",
    "                return rename_quantifier_variables(form[i+1:], var, current_quantifiers, new)\n",
    "        elif form[i] in current_quantifiers:\n",
    "            pre = form[i-1]\n",
    "            post = form[i+1]\n",
    "            if re.search(\"[a-zA-Z]\", pre) == None and re.search(\"[a-zA-Z]\", post) == None:\n",
    "                new = new + form[i]+str(current_quantifiers[form[i]]) \n",
    "            else:\n",
    "                new = new + form[i]\n",
    "        elif form[i] == '(':\n",
    "            new = new + form[i]\n",
    "            num_parent += 1\n",
    "        elif form[i] == ')':\n",
    "            new = new + form[i]\n",
    "            num_parent -= 1\n",
    "        else:\n",
    "            new = new + form[i]\n",
    "        if num_parent == 0:\n",
    "            current_quantifiers[current_variable] -= 1\n",
    "        i+=1\n",
    "    return(new)"
   ]
  },
  {
   "cell_type": "code",
   "execution_count": 16,
   "metadata": {},
   "outputs": [
    {
     "data": {
      "text/plain": [
       "'∀x0∀y0(G(x0) ∧ G(y0) ∧ F (x0, y0) ∧ ∀y1(B(y1) ∧ E(x0, y1)) → evaluation(GOOD))'"
      ]
     },
     "execution_count": 16,
     "metadata": {},
     "output_type": "execute_result"
    }
   ],
   "source": [
    "rename_quantifier_variables(\"∀x∀y(G(x) ∧ G(y) ∧ F (x, y) ∧ ∀y(B(y) ∧ E(x, y)) → evaluation(GOOD))\")"
   ]
  },
  {
   "cell_type": "code",
   "execution_count": 7,
   "metadata": {},
   "outputs": [],
   "source": [
    "def push_quantifiers(f):\n",
    "    \"\"\"\n",
    "    Removes quantifiers (∀, ∃) from the input string and pushes them to the beginning of the string.\n",
    "\n",
    "    Args:\n",
    "        f (str): The input string containing quantifiers.\n",
    "\n",
    "    Returns:\n",
    "        str: The modified string with quantifiers pushed to the beginning.\n",
    "    \"\"\"\n",
    "    quants = \"\"\n",
    "    new_f = f\n",
    "    for i in range(len(f)-2):\n",
    "        if f[i] == \"∀\" or f[i] == \"∃\":\n",
    "            try:\n",
    "                test = int(f[i+2])\n",
    "                quants += f[i:i+3]\n",
    "                new_f = new_f.replace(f[i:i+3], \"\")\n",
    "            except:\n",
    "                quants += f[i:i+2]\n",
    "                new_f = new_f.replace(f[i:i+2], \"\")\n",
    "    new_f = quants+new_f\n",
    "    return new_f"
   ]
  },
  {
   "cell_type": "code",
   "execution_count": 17,
   "metadata": {},
   "outputs": [
    {
     "data": {
      "text/plain": [
       "'∀x0∀y0∀y1(G(x0) ∧ G(y0) ∧ F(x0, y0) ∧ (B(y1) ∧ E(x0, y1)) → evaluation(GOOD))'"
      ]
     },
     "execution_count": 17,
     "metadata": {},
     "output_type": "execute_result"
    }
   ],
   "source": [
    "push_quantifiers('∀x0∀y0(G(x0) ∧ G(y0) ∧ F(x0, y0) ∧ ∀y1(B(y1) ∧ E(x0, y1)) → evaluation(GOOD))')"
   ]
  },
  {
   "cell_type": "code",
   "execution_count": 12,
   "metadata": {},
   "outputs": [
    {
     "name": "stdout",
     "output_type": "stream",
     "text": [
      "065\n"
     ]
    }
   ],
   "source": [
    "from random import randint\n",
    "num = f\"{str(randint(0,9))}\" +f\"{str(randint(0,9))}\"+f\"{str(randint(0,9))}\"\n",
    "print(num)"
   ]
  },
  {
   "cell_type": "markdown",
   "metadata": {},
   "source": []
  },
  {
   "cell_type": "markdown",
   "metadata": {},
   "source": []
  }
 ],
 "metadata": {
  "kernelspec": {
   "display_name": "logicllama",
   "language": "python",
   "name": "python3"
  },
  "language_info": {
   "codemirror_mode": {
    "name": "ipython",
    "version": 3
   },
   "file_extension": ".py",
   "mimetype": "text/x-python",
   "name": "python",
   "nbconvert_exporter": "python",
   "pygments_lexer": "ipython3",
   "version": "3.7.16"
  }
 },
 "nbformat": 4,
 "nbformat_minor": 2
}
