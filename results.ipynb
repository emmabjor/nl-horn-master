{
 "cells": [
  {
   "cell_type": "code",
   "execution_count": 66,
   "metadata": {},
   "outputs": [
    {
     "data": {
      "text/html": [
       "<div>\n",
       "<style scoped>\n",
       "    .dataframe tbody tr th:only-of-type {\n",
       "        vertical-align: middle;\n",
       "    }\n",
       "\n",
       "    .dataframe tbody tr th {\n",
       "        vertical-align: top;\n",
       "    }\n",
       "\n",
       "    .dataframe thead th {\n",
       "        text-align: right;\n",
       "    }\n",
       "</style>\n",
       "<table border=\"1\" class=\"dataframe\">\n",
       "  <thead>\n",
       "    <tr style=\"text-align: right;\">\n",
       "      <th></th>\n",
       "      <th>num</th>\n",
       "      <th>input_sequence</th>\n",
       "      <th>fol_translation</th>\n",
       "      <th>fol_adjustment-translation</th>\n",
       "      <th>fol_adjustment-eval</th>\n",
       "      <th>horn_translation</th>\n",
       "      <th>Analysis</th>\n",
       "      <th>comment</th>\n",
       "      <th>Symbols</th>\n",
       "      <th>Unnamed: 9</th>\n",
       "    </tr>\n",
       "  </thead>\n",
       "  <tbody>\n",
       "    <tr>\n",
       "      <th>0</th>\n",
       "      <td>0</td>\n",
       "      <td>you should expect your friends to reveal every...</td>\n",
       "      <td>∀x∀y∀z(Friends(x,y) ∧ ExpectToReveal(x,y,z) ∧ ...</td>\n",
       "      <td>∀x∀y(Friends(x,y) ∧ ∀z(SelfRevealing(y,z) → ev...</td>\n",
       "      <td>2</td>\n",
       "      <td>¬Friends(x,y) ∨ ¬ExpectToRevealEverything(x,y)...</td>\n",
       "      <td>NaN</td>\n",
       "      <td>Comment colour codes: Emma Luca</td>\n",
       "      <td>∀∃∧→¬∨</td>\n",
       "      <td>NaN</td>\n",
       "    </tr>\n",
       "    <tr>\n",
       "      <th>1</th>\n",
       "      <td>1</td>\n",
       "      <td>you should ask too much of your family.</td>\n",
       "      <td>∀x∀y(Family(x,y) ∧ AskTooMuch(y,x) → evaluatio...</td>\n",
       "      <td>∀x∀y(FamilyOf(y,x) ∧ AsksTooMuch(x,y) → evalua...</td>\n",
       "      <td>1</td>\n",
       "      <td>¬Family(x,y) ∨ ¬ShouldAskTooMuch(y,x) ∨ evalua...</td>\n",
       "      <td>NaN</td>\n",
       "      <td>Solved</td>\n",
       "      <td>∀∃∧→¬∨</td>\n",
       "      <td>NaN</td>\n",
       "    </tr>\n",
       "    <tr>\n",
       "      <th>2</th>\n",
       "      <td>2</td>\n",
       "      <td>it's good to meet new people when you go shopp...</td>\n",
       "      <td>∀x∀y(GoesShopping(x) ∧ Meets(x,y) ∧ NewPeople(...</td>\n",
       "      <td>∀x∀y∃z(GoesShopping(x) ∧ People(y) ∧ New(y) ∧ ...</td>\n",
       "      <td>2</td>\n",
       "      <td>¬GoShopping(x) ∨ ¬Meets(x,y) ∨ ¬NewPeople(y) ∨...</td>\n",
       "      <td>NaN</td>\n",
       "      <td>Guidelines</td>\n",
       "      <td>∀∃∧→¬∨</td>\n",
       "      <td>NaN</td>\n",
       "    </tr>\n",
       "    <tr>\n",
       "      <th>3</th>\n",
       "      <td>3</td>\n",
       "      <td>it's good to be excited about getting your fir...</td>\n",
       "      <td>∀x∀y(FirstPaycheck(x) ∧ Gets(y,x) ∧ ExcitedAbo...</td>\n",
       "      <td>∀x∀y(FirstPaycheck(y) ∧ BelongsTo(y,x) ∧ Excit...</td>\n",
       "      <td>3</td>\n",
       "      <td>¬FirstPaycheck(x) ∨ ¬Gets(y,x) ∨ ¬ExcitedAbout...</td>\n",
       "      <td>NaN</td>\n",
       "      <td>NaN</td>\n",
       "      <td>∀∃∧→¬∨</td>\n",
       "      <td>NaN</td>\n",
       "    </tr>\n",
       "    <tr>\n",
       "      <th>4</th>\n",
       "      <td>4</td>\n",
       "      <td>you're expected to make sure food you serve to...</td>\n",
       "      <td>∀x∀y∃z(IsFood(x) ∧ Serve(y,x,z) ∧ AssureSafeTo...</td>\n",
       "      <td>∀x∀y∀z(ServesTo(x,y,z) ∧ Food(z) → SafeToEat(z...</td>\n",
       "      <td>1</td>\n",
       "      <td>¬IsFood(x) ∨ ¬Serve(y,x,z) ∨ ¬AssureSafeToEat(...</td>\n",
       "      <td>NaN</td>\n",
       "      <td>NaN</td>\n",
       "      <td>∀∃∧→¬∨</td>\n",
       "      <td>NaN</td>\n",
       "    </tr>\n",
       "  </tbody>\n",
       "</table>\n",
       "</div>"
      ],
      "text/plain": [
       "   num                                     input_sequence  \\\n",
       "0    0  you should expect your friends to reveal every...   \n",
       "1    1            you should ask too much of your family.   \n",
       "2    2  it's good to meet new people when you go shopp...   \n",
       "3    3  it's good to be excited about getting your fir...   \n",
       "4    4  you're expected to make sure food you serve to...   \n",
       "\n",
       "                                     fol_translation  \\\n",
       "0  ∀x∀y∀z(Friends(x,y) ∧ ExpectToReveal(x,y,z) ∧ ...   \n",
       "1  ∀x∀y(Family(x,y) ∧ AskTooMuch(y,x) → evaluatio...   \n",
       "2  ∀x∀y(GoesShopping(x) ∧ Meets(x,y) ∧ NewPeople(...   \n",
       "3  ∀x∀y(FirstPaycheck(x) ∧ Gets(y,x) ∧ ExcitedAbo...   \n",
       "4  ∀x∀y∃z(IsFood(x) ∧ Serve(y,x,z) ∧ AssureSafeTo...   \n",
       "\n",
       "                          fol_adjustment-translation  fol_adjustment-eval  \\\n",
       "0  ∀x∀y(Friends(x,y) ∧ ∀z(SelfRevealing(y,z) → ev...                    2   \n",
       "1  ∀x∀y(FamilyOf(y,x) ∧ AsksTooMuch(x,y) → evalua...                    1   \n",
       "2  ∀x∀y∃z(GoesShopping(x) ∧ People(y) ∧ New(y) ∧ ...                    2   \n",
       "3  ∀x∀y(FirstPaycheck(y) ∧ BelongsTo(y,x) ∧ Excit...                    3   \n",
       "4  ∀x∀y∀z(ServesTo(x,y,z) ∧ Food(z) → SafeToEat(z...                    1   \n",
       "\n",
       "                                    horn_translation Analysis  \\\n",
       "0  ¬Friends(x,y) ∨ ¬ExpectToRevealEverything(x,y)...      NaN   \n",
       "1  ¬Family(x,y) ∨ ¬ShouldAskTooMuch(y,x) ∨ evalua...      NaN   \n",
       "2  ¬GoShopping(x) ∨ ¬Meets(x,y) ∨ ¬NewPeople(y) ∨...      NaN   \n",
       "3  ¬FirstPaycheck(x) ∨ ¬Gets(y,x) ∨ ¬ExcitedAbout...      NaN   \n",
       "4  ¬IsFood(x) ∨ ¬Serve(y,x,z) ∨ ¬AssureSafeToEat(...      NaN   \n",
       "\n",
       "                            comment Symbols Unnamed: 9  \n",
       "0  Comment colour codes: Emma Luca   ∀∃∧→¬∨        NaN  \n",
       "1                            Solved  ∀∃∧→¬∨        NaN  \n",
       "2                        Guidelines  ∀∃∧→¬∨        NaN  \n",
       "3                               NaN  ∀∃∧→¬∨        NaN  \n",
       "4                               NaN  ∀∃∧→¬∨        NaN  "
      ]
     },
     "execution_count": 66,
     "metadata": {},
     "output_type": "execute_result"
    }
   ],
   "source": [
    "import pandas as pd\n",
    "\n",
    "df = pd.read_csv('data/annotated-results.tsv', sep='\\t', header=0)\n",
    "\n",
    "df.head()"
   ]
  },
  {
   "cell_type": "code",
   "execution_count": 67,
   "metadata": {},
   "outputs": [
    {
     "name": "stdout",
     "output_type": "stream",
     "text": [
      "Total number of sentences: 993\n"
     ]
    },
    {
     "data": {
      "text/plain": [
       "fol_adjustment-eval\n",
       "3    497\n",
       "1    278\n",
       "2    177\n",
       "0     41\n",
       "Name: count, dtype: int64"
      ]
     },
     "execution_count": 67,
     "metadata": {},
     "output_type": "execute_result"
    }
   ],
   "source": [
    "print(\"Total number of sentences:\", len(df))\n",
    "df['fol_adjustment-eval'].value_counts()"
   ]
  },
  {
   "cell_type": "code",
   "execution_count": 68,
   "metadata": {},
   "outputs": [
    {
     "data": {
      "text/plain": [
       "993"
      ]
     },
     "execution_count": 68,
     "metadata": {},
     "output_type": "execute_result"
    }
   ],
   "source": [
    "len(df)"
   ]
  },
  {
   "cell_type": "code",
   "execution_count": 69,
   "metadata": {},
   "outputs": [
    {
     "data": {
      "text/plain": [
       "0.2799597180261833"
      ]
     },
     "execution_count": 69,
     "metadata": {},
     "output_type": "execute_result"
    }
   ],
   "source": [
    "# Andel 1'ere\n",
    "share_one = df['fol_adjustment-eval'].value_counts()[1]/len(df)\n",
    "share_one"
   ]
  },
  {
   "cell_type": "code",
   "execution_count": 70,
   "metadata": {},
   "outputs": [
    {
     "data": {
      "text/plain": [
       "0.1782477341389728"
      ]
     },
     "execution_count": 70,
     "metadata": {},
     "output_type": "execute_result"
    }
   ],
   "source": [
    "# Andel 2'ere\n",
    "share_two = df['fol_adjustment-eval'].value_counts()[2]/len(df)\n",
    "share_two"
   ]
  },
  {
   "cell_type": "code",
   "execution_count": 71,
   "metadata": {},
   "outputs": [
    {
     "data": {
      "text/plain": [
       "0.500503524672709"
      ]
     },
     "execution_count": 71,
     "metadata": {},
     "output_type": "execute_result"
    }
   ],
   "source": [
    "# Andel 3'ere\n",
    "share_three = df['fol_adjustment-eval'].value_counts()[3]/len(df)\n",
    "share_three"
   ]
  },
  {
   "cell_type": "code",
   "execution_count": 72,
   "metadata": {},
   "outputs": [
    {
     "data": {
      "text/plain": [
       "0.041289023162134945"
      ]
     },
     "execution_count": 72,
     "metadata": {},
     "output_type": "execute_result"
    }
   ],
   "source": [
    "# Andel 0'ere\n",
    "share_zero = df['fol_adjustment-eval'].value_counts()[0]/len(df)\n",
    "share_zero"
   ]
  },
  {
   "cell_type": "code",
   "execution_count": 73,
   "metadata": {},
   "outputs": [
    {
     "name": "stdout",
     "output_type": "stream",
     "text": [
      "0.2697841726618705\n",
      "0.07250755287009064\n"
     ]
    }
   ],
   "source": [
    "# Andel av 1'ere som har switchet evlauation\n",
    "share_morally_corrected = 75/df['fol_adjustment-eval'].value_counts()[1]\n",
    "share_morally_corrected_overall = 72/len(df)\n",
    "print(share_morally_corrected)\n",
    "print(share_morally_corrected_overall)"
   ]
  },
  {
   "cell_type": "code",
   "execution_count": 74,
   "metadata": {},
   "outputs": [
    {
     "name": "stdout",
     "output_type": "stream",
     "text": [
      "0.22442244224422442\n",
      "0.19471947194719472\n",
      "0.5478547854785478\n",
      "total: 303\n"
     ]
    }
   ],
   "source": [
    "marija_rows = df.iloc[0:303]\n",
    "marija_one = marija_rows['fol_adjustment-eval'].value_counts()[1]/len(marija_rows)\n",
    "print(marija_one)\n",
    "\n",
    "marija_two = marija_rows['fol_adjustment-eval'].value_counts()[2]/len(marija_rows)\n",
    "print(marija_two)\n",
    "\n",
    "marija_three = marija_rows['fol_adjustment-eval'].value_counts()[3]/len(marija_rows)\n",
    "print(marija_three)\n",
    "\n",
    "print(\"total:\", len(marija_rows))"
   ]
  },
  {
   "cell_type": "code",
   "execution_count": 75,
   "metadata": {},
   "outputs": [
    {
     "name": "stdout",
     "output_type": "stream",
     "text": [
      "0.2884990253411306\n",
      "0.1871345029239766\n",
      "0.48927875243664715\n",
      "total: 513\n"
     ]
    }
   ],
   "source": [
    "emma_rows = pd.concat([df.iloc[303:678], df.iloc[855:]])\n",
    "\n",
    "emma_one = emma_rows['fol_adjustment-eval'].value_counts()[1]/len(emma_rows)\n",
    "print(emma_one)\n",
    "\n",
    "emma_two = emma_rows['fol_adjustment-eval'].value_counts()[2]/len(emma_rows)\n",
    "print(emma_two)\n",
    "\n",
    "emma_three = emma_rows['fol_adjustment-eval'].value_counts()[3]/len(emma_rows)\n",
    "print(emma_three)\n",
    "\n",
    "print(\"total:\", len(emma_rows))"
   ]
  },
  {
   "cell_type": "code",
   "execution_count": 76,
   "metadata": {},
   "outputs": [
    {
     "name": "stdout",
     "output_type": "stream",
     "text": [
      "0.3502824858757062\n",
      "0.12429378531073447\n",
      "0.4519774011299435\n",
      "total: 177\n"
     ]
    }
   ],
   "source": [
    "luca_rows = df.iloc[678:855]\n",
    "\n",
    "luca_one = luca_rows['fol_adjustment-eval'].value_counts()[1]/len(luca_rows)\n",
    "print(luca_one)\n",
    "\n",
    "luca_two = luca_rows['fol_adjustment-eval'].value_counts()[2]/len(luca_rows)\n",
    "print(luca_two)\n",
    "\n",
    "luca_three = luca_rows['fol_adjustment-eval'].value_counts()[3]/len(luca_rows)\n",
    "print(luca_three)\n",
    "\n",
    "print(\"total:\", len(luca_rows))"
   ]
  },
  {
   "cell_type": "markdown",
   "metadata": {},
   "source": [
    "## Sentiment analysis"
   ]
  },
  {
   "cell_type": "code",
   "execution_count": 79,
   "metadata": {},
   "outputs": [],
   "source": [
    "lst = []\n",
    "for i in df.iterrows():\n",
    "    j = (i[1]['fol_translation']).find(\"→\")\n",
    "    eval = (i[1]['fol_translation'][j+2:])\n",
    "    if \"GOOD\" in eval:\n",
    "        lst.append(1)\n",
    "    elif \"BAD\" in eval:\n",
    "        lst.append(-1)\n",
    "    else:\n",
    "        lst.append(0)\n",
    "\n",
    "df = df.assign(fol_translation_sentiment = lst)\n",
    "\n",
    "lst = []\n",
    "for i in df.iterrows():\n",
    "    j = (i[1]['fol_adjustment-translation']).find(\"→\")\n",
    "    eval = (i[1]['fol_adjustment-translation'][j+2:])\n",
    "    if \"GOOD\" in eval:\n",
    "        lst.append(1)\n",
    "    elif \"BAD\" in eval:\n",
    "        lst.append(-1)\n",
    "    else:\n",
    "        lst.append(0)\n",
    "\n",
    "df = df.assign(fol_adjustment_sentiment = lst)"
   ]
  },
  {
   "cell_type": "code",
   "execution_count": 80,
   "metadata": {},
   "outputs": [
    {
     "data": {
      "text/html": [
       "<div>\n",
       "<style scoped>\n",
       "    .dataframe tbody tr th:only-of-type {\n",
       "        vertical-align: middle;\n",
       "    }\n",
       "\n",
       "    .dataframe tbody tr th {\n",
       "        vertical-align: top;\n",
       "    }\n",
       "\n",
       "    .dataframe thead th {\n",
       "        text-align: right;\n",
       "    }\n",
       "</style>\n",
       "<table border=\"1\" class=\"dataframe\">\n",
       "  <thead>\n",
       "    <tr style=\"text-align: right;\">\n",
       "      <th></th>\n",
       "      <th>num</th>\n",
       "      <th>input_sequence</th>\n",
       "      <th>fol_translation</th>\n",
       "      <th>fol_adjustment-translation</th>\n",
       "      <th>fol_adjustment-eval</th>\n",
       "      <th>horn_translation</th>\n",
       "      <th>Analysis</th>\n",
       "      <th>comment</th>\n",
       "      <th>Symbols</th>\n",
       "      <th>Unnamed: 9</th>\n",
       "      <th>fol_adjustment_sentiment</th>\n",
       "      <th>fol_translation_sentiment</th>\n",
       "    </tr>\n",
       "  </thead>\n",
       "  <tbody>\n",
       "    <tr>\n",
       "      <th>0</th>\n",
       "      <td>0</td>\n",
       "      <td>you should expect your friends to reveal every...</td>\n",
       "      <td>∀x∀y∀z(Friends(x,y) ∧ ExpectToReveal(x,y,z) ∧ ...</td>\n",
       "      <td>∀x∀y(Friends(x,y) ∧ ∀z(SelfRevealing(y,z) → ev...</td>\n",
       "      <td>2</td>\n",
       "      <td>¬Friends(x,y) ∨ ¬ExpectToRevealEverything(x,y)...</td>\n",
       "      <td>NaN</td>\n",
       "      <td>Comment colour codes: Emma Luca</td>\n",
       "      <td>∀∃∧→¬∨</td>\n",
       "      <td>NaN</td>\n",
       "      <td>1</td>\n",
       "      <td>1</td>\n",
       "    </tr>\n",
       "    <tr>\n",
       "      <th>1</th>\n",
       "      <td>1</td>\n",
       "      <td>you should ask too much of your family.</td>\n",
       "      <td>∀x∀y(Family(x,y) ∧ AskTooMuch(y,x) → evaluatio...</td>\n",
       "      <td>∀x∀y(FamilyOf(y,x) ∧ AsksTooMuch(x,y) → evalua...</td>\n",
       "      <td>1</td>\n",
       "      <td>¬Family(x,y) ∨ ¬ShouldAskTooMuch(y,x) ∨ evalua...</td>\n",
       "      <td>NaN</td>\n",
       "      <td>Solved</td>\n",
       "      <td>∀∃∧→¬∨</td>\n",
       "      <td>NaN</td>\n",
       "      <td>-1</td>\n",
       "      <td>1</td>\n",
       "    </tr>\n",
       "    <tr>\n",
       "      <th>2</th>\n",
       "      <td>2</td>\n",
       "      <td>it's good to meet new people when you go shopp...</td>\n",
       "      <td>∀x∀y(GoesShopping(x) ∧ Meets(x,y) ∧ NewPeople(...</td>\n",
       "      <td>∀x∀y∃z(GoesShopping(x) ∧ People(y) ∧ New(y) ∧ ...</td>\n",
       "      <td>2</td>\n",
       "      <td>¬GoShopping(x) ∨ ¬Meets(x,y) ∨ ¬NewPeople(y) ∨...</td>\n",
       "      <td>NaN</td>\n",
       "      <td>Guidelines</td>\n",
       "      <td>∀∃∧→¬∨</td>\n",
       "      <td>NaN</td>\n",
       "      <td>1</td>\n",
       "      <td>1</td>\n",
       "    </tr>\n",
       "    <tr>\n",
       "      <th>3</th>\n",
       "      <td>3</td>\n",
       "      <td>it's good to be excited about getting your fir...</td>\n",
       "      <td>∀x∀y(FirstPaycheck(x) ∧ Gets(y,x) ∧ ExcitedAbo...</td>\n",
       "      <td>∀x∀y(FirstPaycheck(y) ∧ BelongsTo(y,x) ∧ Excit...</td>\n",
       "      <td>3</td>\n",
       "      <td>¬FirstPaycheck(x) ∨ ¬Gets(y,x) ∨ ¬ExcitedAbout...</td>\n",
       "      <td>NaN</td>\n",
       "      <td>NaN</td>\n",
       "      <td>∀∃∧→¬∨</td>\n",
       "      <td>NaN</td>\n",
       "      <td>1</td>\n",
       "      <td>1</td>\n",
       "    </tr>\n",
       "    <tr>\n",
       "      <th>4</th>\n",
       "      <td>4</td>\n",
       "      <td>you're expected to make sure food you serve to...</td>\n",
       "      <td>∀x∀y∃z(IsFood(x) ∧ Serve(y,x,z) ∧ AssureSafeTo...</td>\n",
       "      <td>∀x∀y∀z(ServesTo(x,y,z) ∧ Food(z) → SafeToEat(z...</td>\n",
       "      <td>1</td>\n",
       "      <td>¬IsFood(x) ∨ ¬Serve(y,x,z) ∨ ¬AssureSafeToEat(...</td>\n",
       "      <td>NaN</td>\n",
       "      <td>NaN</td>\n",
       "      <td>∀∃∧→¬∨</td>\n",
       "      <td>NaN</td>\n",
       "      <td>1</td>\n",
       "      <td>1</td>\n",
       "    </tr>\n",
       "    <tr>\n",
       "      <th>...</th>\n",
       "      <td>...</td>\n",
       "      <td>...</td>\n",
       "      <td>...</td>\n",
       "      <td>...</td>\n",
       "      <td>...</td>\n",
       "      <td>...</td>\n",
       "      <td>...</td>\n",
       "      <td>...</td>\n",
       "      <td>...</td>\n",
       "      <td>...</td>\n",
       "      <td>...</td>\n",
       "      <td>...</td>\n",
       "    </tr>\n",
       "    <tr>\n",
       "      <th>988</th>\n",
       "      <td>9106</td>\n",
       "      <td>it is okay to pass things down.</td>\n",
       "      <td>∀x∀y(Thing(x) ∧ PassDown(y,x) → evaluation(GOOD))</td>\n",
       "      <td>∀x∀y(Thing(x) ∧ PassDown(y,x) → evaluation(GOOD))</td>\n",
       "      <td>3</td>\n",
       "      <td>NaN</td>\n",
       "      <td>NaN</td>\n",
       "      <td>NaN</td>\n",
       "      <td>∀∃∧→¬∨</td>\n",
       "      <td>NaN</td>\n",
       "      <td>1</td>\n",
       "      <td>1</td>\n",
       "    </tr>\n",
       "    <tr>\n",
       "      <th>989</th>\n",
       "      <td>9107</td>\n",
       "      <td>it's ok to think about things.</td>\n",
       "      <td>∀x∀t(Thing(x) ∧ ThinkAbout(y,x) → evaluation(G...</td>\n",
       "      <td>∀x∀y(Thing(y) ∧ ThinksAbout(x,y) → evaluation(...</td>\n",
       "      <td>3</td>\n",
       "      <td>NaN</td>\n",
       "      <td>NaN</td>\n",
       "      <td>NaN</td>\n",
       "      <td>∀∃∧→¬∨</td>\n",
       "      <td>NaN</td>\n",
       "      <td>1</td>\n",
       "      <td>1</td>\n",
       "    </tr>\n",
       "    <tr>\n",
       "      <th>990</th>\n",
       "      <td>9108</td>\n",
       "      <td>it's not okay for girls to date each other.</td>\n",
       "      <td>∀x∀y(Girl(x) ∧ Girl(y) ∧ Date(x,y) → evaluatio...</td>\n",
       "      <td>∀x∀y(Girl(x) ∧ Girl(y) ∧ Dates(x,y) → evaluati...</td>\n",
       "      <td>3</td>\n",
       "      <td>NaN</td>\n",
       "      <td>NaN</td>\n",
       "      <td>NaN</td>\n",
       "      <td>∀∃∧→¬∨</td>\n",
       "      <td>NaN</td>\n",
       "      <td>-1</td>\n",
       "      <td>-1</td>\n",
       "    </tr>\n",
       "    <tr>\n",
       "      <th>991</th>\n",
       "      <td>9109</td>\n",
       "      <td>you have to be faithful to a partner if you do...</td>\n",
       "      <td>∀x∀y(Partner(x) ∧ BeFaithfulTo(y,x) ∧ ¬FeelLik...</td>\n",
       "      <td>∀x∀y(PartnerOf(y,x) ∧ ¬FeelsLikeBeingFaithful(...</td>\n",
       "      <td>1</td>\n",
       "      <td>NaN</td>\n",
       "      <td>NaN</td>\n",
       "      <td>even if</td>\n",
       "      <td>∀∃∧→¬∨</td>\n",
       "      <td>NaN</td>\n",
       "      <td>-1</td>\n",
       "      <td>1</td>\n",
       "    </tr>\n",
       "    <tr>\n",
       "      <th>992</th>\n",
       "      <td>9110</td>\n",
       "      <td>it's not ok to leave some chores for the peopl...</td>\n",
       "      <td>∀x∀y∀z(LiveWith(x,y) ∧ People(y) ∧ Chore(z) ∧ ...</td>\n",
       "      <td>∀x∀y∃z(LivesWith(x,y) ∧ People(y) ∧ Chore(z) ∧...</td>\n",
       "      <td>3</td>\n",
       "      <td>NaN</td>\n",
       "      <td>NaN</td>\n",
       "      <td>NaN</td>\n",
       "      <td>∀∃∧→¬∨</td>\n",
       "      <td>NaN</td>\n",
       "      <td>-1</td>\n",
       "      <td>-1</td>\n",
       "    </tr>\n",
       "  </tbody>\n",
       "</table>\n",
       "<p>993 rows × 12 columns</p>\n",
       "</div>"
      ],
      "text/plain": [
       "      num                                     input_sequence  \\\n",
       "0       0  you should expect your friends to reveal every...   \n",
       "1       1            you should ask too much of your family.   \n",
       "2       2  it's good to meet new people when you go shopp...   \n",
       "3       3  it's good to be excited about getting your fir...   \n",
       "4       4  you're expected to make sure food you serve to...   \n",
       "..    ...                                                ...   \n",
       "988  9106                    it is okay to pass things down.   \n",
       "989  9107                     it's ok to think about things.   \n",
       "990  9108        it's not okay for girls to date each other.   \n",
       "991  9109  you have to be faithful to a partner if you do...   \n",
       "992  9110  it's not ok to leave some chores for the peopl...   \n",
       "\n",
       "                                       fol_translation  \\\n",
       "0    ∀x∀y∀z(Friends(x,y) ∧ ExpectToReveal(x,y,z) ∧ ...   \n",
       "1    ∀x∀y(Family(x,y) ∧ AskTooMuch(y,x) → evaluatio...   \n",
       "2    ∀x∀y(GoesShopping(x) ∧ Meets(x,y) ∧ NewPeople(...   \n",
       "3    ∀x∀y(FirstPaycheck(x) ∧ Gets(y,x) ∧ ExcitedAbo...   \n",
       "4    ∀x∀y∃z(IsFood(x) ∧ Serve(y,x,z) ∧ AssureSafeTo...   \n",
       "..                                                 ...   \n",
       "988  ∀x∀y(Thing(x) ∧ PassDown(y,x) → evaluation(GOOD))   \n",
       "989  ∀x∀t(Thing(x) ∧ ThinkAbout(y,x) → evaluation(G...   \n",
       "990  ∀x∀y(Girl(x) ∧ Girl(y) ∧ Date(x,y) → evaluatio...   \n",
       "991  ∀x∀y(Partner(x) ∧ BeFaithfulTo(y,x) ∧ ¬FeelLik...   \n",
       "992  ∀x∀y∀z(LiveWith(x,y) ∧ People(y) ∧ Chore(z) ∧ ...   \n",
       "\n",
       "                            fol_adjustment-translation  fol_adjustment-eval  \\\n",
       "0    ∀x∀y(Friends(x,y) ∧ ∀z(SelfRevealing(y,z) → ev...                    2   \n",
       "1    ∀x∀y(FamilyOf(y,x) ∧ AsksTooMuch(x,y) → evalua...                    1   \n",
       "2    ∀x∀y∃z(GoesShopping(x) ∧ People(y) ∧ New(y) ∧ ...                    2   \n",
       "3    ∀x∀y(FirstPaycheck(y) ∧ BelongsTo(y,x) ∧ Excit...                    3   \n",
       "4    ∀x∀y∀z(ServesTo(x,y,z) ∧ Food(z) → SafeToEat(z...                    1   \n",
       "..                                                 ...                  ...   \n",
       "988  ∀x∀y(Thing(x) ∧ PassDown(y,x) → evaluation(GOOD))                    3   \n",
       "989  ∀x∀y(Thing(y) ∧ ThinksAbout(x,y) → evaluation(...                    3   \n",
       "990  ∀x∀y(Girl(x) ∧ Girl(y) ∧ Dates(x,y) → evaluati...                    3   \n",
       "991  ∀x∀y(PartnerOf(y,x) ∧ ¬FeelsLikeBeingFaithful(...                    1   \n",
       "992  ∀x∀y∃z(LivesWith(x,y) ∧ People(y) ∧ Chore(z) ∧...                    3   \n",
       "\n",
       "                                      horn_translation Analysis  \\\n",
       "0    ¬Friends(x,y) ∨ ¬ExpectToRevealEverything(x,y)...      NaN   \n",
       "1    ¬Family(x,y) ∨ ¬ShouldAskTooMuch(y,x) ∨ evalua...      NaN   \n",
       "2    ¬GoShopping(x) ∨ ¬Meets(x,y) ∨ ¬NewPeople(y) ∨...      NaN   \n",
       "3    ¬FirstPaycheck(x) ∨ ¬Gets(y,x) ∨ ¬ExcitedAbout...      NaN   \n",
       "4    ¬IsFood(x) ∨ ¬Serve(y,x,z) ∨ ¬AssureSafeToEat(...      NaN   \n",
       "..                                                 ...      ...   \n",
       "988                                                NaN      NaN   \n",
       "989                                                NaN      NaN   \n",
       "990                                                NaN      NaN   \n",
       "991                                                NaN      NaN   \n",
       "992                                                NaN      NaN   \n",
       "\n",
       "                              comment Symbols Unnamed: 9  \\\n",
       "0    Comment colour codes: Emma Luca   ∀∃∧→¬∨        NaN   \n",
       "1                              Solved  ∀∃∧→¬∨        NaN   \n",
       "2                          Guidelines  ∀∃∧→¬∨        NaN   \n",
       "3                                 NaN  ∀∃∧→¬∨        NaN   \n",
       "4                                 NaN  ∀∃∧→¬∨        NaN   \n",
       "..                                ...     ...        ...   \n",
       "988                               NaN  ∀∃∧→¬∨        NaN   \n",
       "989                               NaN  ∀∃∧→¬∨        NaN   \n",
       "990                               NaN  ∀∃∧→¬∨        NaN   \n",
       "991                           even if  ∀∃∧→¬∨        NaN   \n",
       "992                               NaN  ∀∃∧→¬∨        NaN   \n",
       "\n",
       "     fol_adjustment_sentiment  fol_translation_sentiment  \n",
       "0                           1                          1  \n",
       "1                          -1                          1  \n",
       "2                           1                          1  \n",
       "3                           1                          1  \n",
       "4                           1                          1  \n",
       "..                        ...                        ...  \n",
       "988                         1                          1  \n",
       "989                         1                          1  \n",
       "990                        -1                         -1  \n",
       "991                        -1                          1  \n",
       "992                        -1                         -1  \n",
       "\n",
       "[993 rows x 12 columns]"
      ]
     },
     "execution_count": 80,
     "metadata": {},
     "output_type": "execute_result"
    }
   ],
   "source": [
    "df"
   ]
  },
  {
   "cell_type": "code",
   "execution_count": 81,
   "metadata": {},
   "outputs": [],
   "source": [
    "df = df.filter(['num', 'input_sequence', 'fol_translation', 'fol_adjustment-translation', 'fol_adjustment-eval', 'fol_translation_sentiment', 'fol_adjustment_sentiment'])"
   ]
  },
  {
   "cell_type": "code",
   "execution_count": 82,
   "metadata": {},
   "outputs": [
    {
     "data": {
      "text/html": [
       "<div>\n",
       "<style scoped>\n",
       "    .dataframe tbody tr th:only-of-type {\n",
       "        vertical-align: middle;\n",
       "    }\n",
       "\n",
       "    .dataframe tbody tr th {\n",
       "        vertical-align: top;\n",
       "    }\n",
       "\n",
       "    .dataframe thead th {\n",
       "        text-align: right;\n",
       "    }\n",
       "</style>\n",
       "<table border=\"1\" class=\"dataframe\">\n",
       "  <thead>\n",
       "    <tr style=\"text-align: right;\">\n",
       "      <th></th>\n",
       "      <th>num</th>\n",
       "      <th>input_sequence</th>\n",
       "      <th>fol_translation</th>\n",
       "      <th>fol_adjustment-translation</th>\n",
       "      <th>fol_adjustment-eval</th>\n",
       "      <th>fol_translation_sentiment</th>\n",
       "      <th>fol_adjustment_sentiment</th>\n",
       "    </tr>\n",
       "  </thead>\n",
       "  <tbody>\n",
       "    <tr>\n",
       "      <th>0</th>\n",
       "      <td>0</td>\n",
       "      <td>you should expect your friends to reveal every...</td>\n",
       "      <td>∀x∀y∀z(Friends(x,y) ∧ ExpectToReveal(x,y,z) ∧ ...</td>\n",
       "      <td>∀x∀y(Friends(x,y) ∧ ∀z(SelfRevealing(y,z) → ev...</td>\n",
       "      <td>2</td>\n",
       "      <td>1</td>\n",
       "      <td>1</td>\n",
       "    </tr>\n",
       "    <tr>\n",
       "      <th>1</th>\n",
       "      <td>1</td>\n",
       "      <td>you should ask too much of your family.</td>\n",
       "      <td>∀x∀y(Family(x,y) ∧ AskTooMuch(y,x) → evaluatio...</td>\n",
       "      <td>∀x∀y(FamilyOf(y,x) ∧ AsksTooMuch(x,y) → evalua...</td>\n",
       "      <td>1</td>\n",
       "      <td>1</td>\n",
       "      <td>-1</td>\n",
       "    </tr>\n",
       "    <tr>\n",
       "      <th>2</th>\n",
       "      <td>2</td>\n",
       "      <td>it's good to meet new people when you go shopp...</td>\n",
       "      <td>∀x∀y(GoesShopping(x) ∧ Meets(x,y) ∧ NewPeople(...</td>\n",
       "      <td>∀x∀y∃z(GoesShopping(x) ∧ People(y) ∧ New(y) ∧ ...</td>\n",
       "      <td>2</td>\n",
       "      <td>1</td>\n",
       "      <td>1</td>\n",
       "    </tr>\n",
       "    <tr>\n",
       "      <th>3</th>\n",
       "      <td>3</td>\n",
       "      <td>it's good to be excited about getting your fir...</td>\n",
       "      <td>∀x∀y(FirstPaycheck(x) ∧ Gets(y,x) ∧ ExcitedAbo...</td>\n",
       "      <td>∀x∀y(FirstPaycheck(y) ∧ BelongsTo(y,x) ∧ Excit...</td>\n",
       "      <td>3</td>\n",
       "      <td>1</td>\n",
       "      <td>1</td>\n",
       "    </tr>\n",
       "    <tr>\n",
       "      <th>4</th>\n",
       "      <td>4</td>\n",
       "      <td>you're expected to make sure food you serve to...</td>\n",
       "      <td>∀x∀y∃z(IsFood(x) ∧ Serve(y,x,z) ∧ AssureSafeTo...</td>\n",
       "      <td>∀x∀y∀z(ServesTo(x,y,z) ∧ Food(z) → SafeToEat(z...</td>\n",
       "      <td>1</td>\n",
       "      <td>1</td>\n",
       "      <td>1</td>\n",
       "    </tr>\n",
       "    <tr>\n",
       "      <th>...</th>\n",
       "      <td>...</td>\n",
       "      <td>...</td>\n",
       "      <td>...</td>\n",
       "      <td>...</td>\n",
       "      <td>...</td>\n",
       "      <td>...</td>\n",
       "      <td>...</td>\n",
       "    </tr>\n",
       "    <tr>\n",
       "      <th>988</th>\n",
       "      <td>9106</td>\n",
       "      <td>it is okay to pass things down.</td>\n",
       "      <td>∀x∀y(Thing(x) ∧ PassDown(y,x) → evaluation(GOOD))</td>\n",
       "      <td>∀x∀y(Thing(x) ∧ PassDown(y,x) → evaluation(GOOD))</td>\n",
       "      <td>3</td>\n",
       "      <td>1</td>\n",
       "      <td>1</td>\n",
       "    </tr>\n",
       "    <tr>\n",
       "      <th>989</th>\n",
       "      <td>9107</td>\n",
       "      <td>it's ok to think about things.</td>\n",
       "      <td>∀x∀t(Thing(x) ∧ ThinkAbout(y,x) → evaluation(G...</td>\n",
       "      <td>∀x∀y(Thing(y) ∧ ThinksAbout(x,y) → evaluation(...</td>\n",
       "      <td>3</td>\n",
       "      <td>1</td>\n",
       "      <td>1</td>\n",
       "    </tr>\n",
       "    <tr>\n",
       "      <th>990</th>\n",
       "      <td>9108</td>\n",
       "      <td>it's not okay for girls to date each other.</td>\n",
       "      <td>∀x∀y(Girl(x) ∧ Girl(y) ∧ Date(x,y) → evaluatio...</td>\n",
       "      <td>∀x∀y(Girl(x) ∧ Girl(y) ∧ Dates(x,y) → evaluati...</td>\n",
       "      <td>3</td>\n",
       "      <td>-1</td>\n",
       "      <td>-1</td>\n",
       "    </tr>\n",
       "    <tr>\n",
       "      <th>991</th>\n",
       "      <td>9109</td>\n",
       "      <td>you have to be faithful to a partner if you do...</td>\n",
       "      <td>∀x∀y(Partner(x) ∧ BeFaithfulTo(y,x) ∧ ¬FeelLik...</td>\n",
       "      <td>∀x∀y(PartnerOf(y,x) ∧ ¬FeelsLikeBeingFaithful(...</td>\n",
       "      <td>1</td>\n",
       "      <td>1</td>\n",
       "      <td>-1</td>\n",
       "    </tr>\n",
       "    <tr>\n",
       "      <th>992</th>\n",
       "      <td>9110</td>\n",
       "      <td>it's not ok to leave some chores for the peopl...</td>\n",
       "      <td>∀x∀y∀z(LiveWith(x,y) ∧ People(y) ∧ Chore(z) ∧ ...</td>\n",
       "      <td>∀x∀y∃z(LivesWith(x,y) ∧ People(y) ∧ Chore(z) ∧...</td>\n",
       "      <td>3</td>\n",
       "      <td>-1</td>\n",
       "      <td>-1</td>\n",
       "    </tr>\n",
       "  </tbody>\n",
       "</table>\n",
       "<p>993 rows × 7 columns</p>\n",
       "</div>"
      ],
      "text/plain": [
       "      num                                     input_sequence  \\\n",
       "0       0  you should expect your friends to reveal every...   \n",
       "1       1            you should ask too much of your family.   \n",
       "2       2  it's good to meet new people when you go shopp...   \n",
       "3       3  it's good to be excited about getting your fir...   \n",
       "4       4  you're expected to make sure food you serve to...   \n",
       "..    ...                                                ...   \n",
       "988  9106                    it is okay to pass things down.   \n",
       "989  9107                     it's ok to think about things.   \n",
       "990  9108        it's not okay for girls to date each other.   \n",
       "991  9109  you have to be faithful to a partner if you do...   \n",
       "992  9110  it's not ok to leave some chores for the peopl...   \n",
       "\n",
       "                                       fol_translation  \\\n",
       "0    ∀x∀y∀z(Friends(x,y) ∧ ExpectToReveal(x,y,z) ∧ ...   \n",
       "1    ∀x∀y(Family(x,y) ∧ AskTooMuch(y,x) → evaluatio...   \n",
       "2    ∀x∀y(GoesShopping(x) ∧ Meets(x,y) ∧ NewPeople(...   \n",
       "3    ∀x∀y(FirstPaycheck(x) ∧ Gets(y,x) ∧ ExcitedAbo...   \n",
       "4    ∀x∀y∃z(IsFood(x) ∧ Serve(y,x,z) ∧ AssureSafeTo...   \n",
       "..                                                 ...   \n",
       "988  ∀x∀y(Thing(x) ∧ PassDown(y,x) → evaluation(GOOD))   \n",
       "989  ∀x∀t(Thing(x) ∧ ThinkAbout(y,x) → evaluation(G...   \n",
       "990  ∀x∀y(Girl(x) ∧ Girl(y) ∧ Date(x,y) → evaluatio...   \n",
       "991  ∀x∀y(Partner(x) ∧ BeFaithfulTo(y,x) ∧ ¬FeelLik...   \n",
       "992  ∀x∀y∀z(LiveWith(x,y) ∧ People(y) ∧ Chore(z) ∧ ...   \n",
       "\n",
       "                            fol_adjustment-translation  fol_adjustment-eval  \\\n",
       "0    ∀x∀y(Friends(x,y) ∧ ∀z(SelfRevealing(y,z) → ev...                    2   \n",
       "1    ∀x∀y(FamilyOf(y,x) ∧ AsksTooMuch(x,y) → evalua...                    1   \n",
       "2    ∀x∀y∃z(GoesShopping(x) ∧ People(y) ∧ New(y) ∧ ...                    2   \n",
       "3    ∀x∀y(FirstPaycheck(y) ∧ BelongsTo(y,x) ∧ Excit...                    3   \n",
       "4    ∀x∀y∀z(ServesTo(x,y,z) ∧ Food(z) → SafeToEat(z...                    1   \n",
       "..                                                 ...                  ...   \n",
       "988  ∀x∀y(Thing(x) ∧ PassDown(y,x) → evaluation(GOOD))                    3   \n",
       "989  ∀x∀y(Thing(y) ∧ ThinksAbout(x,y) → evaluation(...                    3   \n",
       "990  ∀x∀y(Girl(x) ∧ Girl(y) ∧ Dates(x,y) → evaluati...                    3   \n",
       "991  ∀x∀y(PartnerOf(y,x) ∧ ¬FeelsLikeBeingFaithful(...                    1   \n",
       "992  ∀x∀y∃z(LivesWith(x,y) ∧ People(y) ∧ Chore(z) ∧...                    3   \n",
       "\n",
       "     fol_translation_sentiment  fol_adjustment_sentiment  \n",
       "0                            1                         1  \n",
       "1                            1                        -1  \n",
       "2                            1                         1  \n",
       "3                            1                         1  \n",
       "4                            1                         1  \n",
       "..                         ...                       ...  \n",
       "988                          1                         1  \n",
       "989                          1                         1  \n",
       "990                         -1                        -1  \n",
       "991                          1                        -1  \n",
       "992                         -1                        -1  \n",
       "\n",
       "[993 rows x 7 columns]"
      ]
     },
     "execution_count": 82,
     "metadata": {},
     "output_type": "execute_result"
    }
   ],
   "source": [
    "df"
   ]
  },
  {
   "cell_type": "code",
   "execution_count": 83,
   "metadata": {},
   "outputs": [],
   "source": [
    "sentences = df['input_sequence'].tolist()\n",
    "sentiment_df = df.filter(['num', 'fol_translation_sentiment', 'fol_adjustment_sentiment'])"
   ]
  },
  {
   "cell_type": "markdown",
   "metadata": {},
   "source": [
    "### HuggingFace default seniment pipeline \n",
    "pip install transformers\n",
    "\n",
    "pip3 install torch torchvision torchaudio"
   ]
  },
  {
   "cell_type": "code",
   "execution_count": 84,
   "metadata": {},
   "outputs": [
    {
     "name": "stderr",
     "output_type": "stream",
     "text": [
      "No model was supplied, defaulted to distilbert-base-uncased-finetuned-sst-2-english and revision af0f99b (https://huggingface.co/distilbert-base-uncased-finetuned-sst-2-english).\n",
      "Using a pipeline without specifying a model name and revision in production is not recommended.\n"
     ]
    }
   ],
   "source": [
    "from transformers import pipeline"
   ]
  },
  {
   "cell_type": "code",
   "execution_count": 89,
   "metadata": {},
   "outputs": [
    {
     "name": "stdout",
     "output_type": "stream",
     "text": [
      "HF Sentiment                 -1         1\n",
      "Translation Sentiment                    \n",
      "-1                     0.911591  0.088409\n",
      " 1                     0.357438  0.642562\n",
      "\n",
      "HF Sentiment                -1         1\n",
      "Adjustment Sentiment                    \n",
      "-1                    0.897380  0.102620\n",
      " 0                    1.000000  0.000000\n",
      " 1                    0.421348  0.578652\n"
     ]
    }
   ],
   "source": [
    "sentiment_pipeline = pipeline(\"sentiment-analysis\")\n",
    "\n",
    "data = sentences\n",
    "hf_default = sentiment_pipeline(data)\n",
    "\n",
    "sentiment = []\n",
    "for el in hf_default:\n",
    "    if el['label'] == \"POSITIVE\":\n",
    "        sentiment.append(1)\n",
    "    elif el['label'] == \"NEGATIVE\":\n",
    "        sentiment.append(-1)\n",
    "    else:\n",
    "        sentiment.append(0)\n",
    "        \n",
    "sentiment_df = sentiment_df.assign(hf_sentiment = sentiment)\n",
    "\n",
    "translation_sentiment_array = sentiment_df['fol_translation_sentiment'].to_numpy()\n",
    "adjustment_sentiment_array = sentiment_df['fol_adjustment_sentiment'].to_numpy()\n",
    "sentiment_model_array = sentiment_df['hf_sentiment'].to_numpy()\n",
    "\n",
    "hf_ct = pd.crosstab(translation_sentiment_array, sentiment_model_array, rownames=['Translation Sentiment'], colnames=['HF Sentiment'], normalize='index')\n",
    "print(hf_ct)\n",
    "print()\n",
    "hf_ct_adjusted = pd.crosstab(adjustment_sentiment_array, sentiment_model_array, rownames=['Adjustment Sentiment'], colnames=['HF Sentiment'], normalize='index')\n",
    "print(hf_ct_adjusted)"
   ]
  },
  {
   "cell_type": "markdown",
   "metadata": {},
   "source": [
    "### Twitter roBERTa sentiment"
   ]
  },
  {
   "cell_type": "code",
   "execution_count": 91,
   "metadata": {},
   "outputs": [
    {
     "name": "stdout",
     "output_type": "stream",
     "text": [
      "Roberta Sentiment            -1         0         1\n",
      "Translation Sentiment                              \n",
      "-1                     0.935167  0.055010  0.009823\n",
      " 1                     0.200413  0.549587  0.250000\n",
      "\n",
      "Roberta Sentiment          -1         0         1\n",
      "Adjustment Sentiment                             \n",
      "-1                    0.90393  0.089520  0.006550\n",
      " 0                    1.00000  0.000000  0.000000\n",
      " 1                    0.29588  0.473783  0.230337\n"
     ]
    }
   ],
   "source": [
    "sentiment_pipeline = pipeline(model=\"cardiffnlp/twitter-roberta-base-sentiment\")\n",
    "\n",
    "data = sentences\n",
    "roberta = sentiment_pipeline(data)\n",
    "\n",
    "sentiment = []\n",
    "for el in roberta:\n",
    "    if el['label'] == \"LABEL_2\":\n",
    "        sentiment.append(1)\n",
    "    elif el['label'] == \"LABEL_0\":\n",
    "        sentiment.append(-1)\n",
    "    else:\n",
    "        sentiment.append(0)\n",
    "        \n",
    "sentiment_df = sentiment_df.assign(roberta_sentiment = sentiment)\n",
    "\n",
    "translation_sentiment_array = sentiment_df['fol_translation_sentiment'].to_numpy()\n",
    "adjustment_sentiment_array = sentiment_df['fol_adjustment_sentiment'].to_numpy()\n",
    "sentiment_model_array = sentiment_df['roberta_sentiment'].to_numpy()\n",
    "\n",
    "roberta_ct = pd.crosstab(translation_sentiment_array, sentiment_model_array, rownames=['Translation Sentiment'], colnames=['Roberta Sentiment'], normalize='index')\n",
    "print(roberta_ct)\n",
    "print()\n",
    "roberta_ct_adjusted = pd.crosstab(adjustment_sentiment_array, sentiment_model_array, rownames=['Adjustment Sentiment'], colnames=['Roberta Sentiment'], normalize='index')\n",
    "print(roberta_ct_adjusted)"
   ]
  },
  {
   "cell_type": "markdown",
   "metadata": {},
   "source": [
    "### DistilBERT"
   ]
  },
  {
   "cell_type": "code",
   "execution_count": 95,
   "metadata": {},
   "outputs": [
    {
     "name": "stdout",
     "output_type": "stream",
     "text": [
      "DistilBERT Sentiment         -1         0         1\n",
      "Translation Sentiment                              \n",
      "-1                     0.770138  0.186640  0.043222\n",
      " 1                     0.307851  0.080579  0.611570\n",
      "\n",
      "DistilBERT Sentiment        -1         0         1\n",
      "Adjustment Sentiment                              \n",
      "-1                    0.753275  0.176856  0.069869\n",
      " 0                    0.000000  0.000000  1.000000\n",
      " 1                    0.367041  0.099251  0.533708\n"
     ]
    }
   ],
   "source": [
    "# sentiment_pipeline = pipeline(model=\"lxyuan/distilbert-base-multilingual-cased-sentiments-student\")\n",
    "\n",
    "# data = sentences\n",
    "# distilbert = sentiment_pipeline(data)\n",
    "\n",
    "# print(distilbert)\n",
    "\n",
    "sentiment = []\n",
    "for el in distilbert:\n",
    "    if el['label'] == \"positive\":\n",
    "        sentiment.append(1)\n",
    "    elif el['label'] == \"negative\":\n",
    "        sentiment.append(-1)\n",
    "    else:\n",
    "        sentiment.append(0)\n",
    "        \n",
    "sentiment_df = sentiment_df.assign(distilbert_sentiment = sentiment)\n",
    "\n",
    "translation_sentiment_array = sentiment_df['fol_translation_sentiment'].to_numpy()\n",
    "adjustment_sentiment_array = sentiment_df['fol_adjustment_sentiment'].to_numpy()\n",
    "sentiment_model_array = sentiment_df['distilbert_sentiment'].to_numpy()\n",
    "\n",
    "distilbert_ct = pd.crosstab(translation_sentiment_array, sentiment_model_array, rownames=['Translation Sentiment'], colnames=['DistilBERT Sentiment'], normalize='index')\n",
    "print(distilbert_ct)\n",
    "print()\n",
    "distilbert_ct_adjusted = pd.crosstab(adjustment_sentiment_array, sentiment_model_array, rownames=['Adjustment Sentiment'], colnames=['DistilBERT Sentiment'], normalize='index')\n",
    "print(distilbert_ct_adjusted)"
   ]
  },
  {
   "cell_type": "markdown",
   "metadata": {},
   "source": [
    "### Distilbert text sentiment"
   ]
  }
 ],
 "metadata": {
  "kernelspec": {
   "display_name": "translation_master",
   "language": "python",
   "name": "python3"
  },
  "language_info": {
   "codemirror_mode": {
    "name": "ipython",
    "version": 3
   },
   "file_extension": ".py",
   "mimetype": "text/x-python",
   "name": "python",
   "nbconvert_exporter": "python",
   "pygments_lexer": "ipython3",
   "version": "3.8.18"
  }
 },
 "nbformat": 4,
 "nbformat_minor": 2
}
